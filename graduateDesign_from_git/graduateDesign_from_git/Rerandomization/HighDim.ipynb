{
 "cells": [
  {
   "cell_type": "code",
   "execution_count": null,
   "metadata": {},
   "outputs": [],
   "source": [
    "import numpy as np\n",
    "import pandas as pd\n",
    "import matplotlib.pyplot as plt\n",
    "from scipy.special import gammainc, gamma\n",
    "from functions_for_simulation import *"
   ]
  },
  {
   "cell_type": "code",
   "execution_count": null,
   "metadata": {},
   "outputs": [],
   "source": [
    "## initializing\n",
    "\n",
    "rowNum, colNum = (20, 40)\n",
    "\n",
    "Xs = Xs_generator(rowNum, colNum)\n",
    "# Xs = np.random.normal(0, 4, n)\n",
    "Ws_1 = np.ones(rowNum) \n",
    "Ws_0 = np.zeros(rowNum)\n",
    "\n",
    "Ys_1 = Ys_generator(Xs, Ws_1)\n",
    "Ys_0 = Ys_generator(Xs, Ws_0)\n",
    "\n",
    "tau = np.average(Ys_1['y']) - np.average(Ys_0['y'])\n",
    "# # If we use the same eps, tau will be the constant 1.0 \n",
    "\n",
    "print(\"The average treatment effect tau: {0:.3f}\".format(tau))"
   ]
  },
  {
   "cell_type": "code",
   "execution_count": null,
   "metadata": {},
   "outputs": [],
   "source": [
    "# Define a matrix X\n",
    "X = np.array(Xs)\n",
    "\n",
    "# Calculate the covariance matrix of X\n",
    "X_cov = np.cov(X.T)\n",
    "\n",
    "# Calculate the Moore-Penrose pseudo-inverse of the covariance matrix\n",
    "X_cov_pinv = np.linalg.pinv(X_cov)\n",
    "\n",
    "# Perform matrix multiplication: X * X_cov_pinv * X.T\n",
    "result = X @ X_cov_pinv @ X.T\n",
    "\n",
    "# print('Resulting matrix using Moore-Penrose inverse:\\n', result)\n",
    "\n",
    "Ws_equal_size = Ws_generator_equal_size(Xs)\n",
    "\n",
    "# I_T_C = np.random.choice([-1, 1], size=rowNum, p=[0.5, 0.5])\n",
    "\n",
    "I_T_C = [1 if Ws_equal_size[i] == 1 else -1 for i in range(rowNum)]\n",
    "\n",
    "I_T_C = np.array(I_T_C)\n",
    "# print(diff_T_C_calculator(Xs, Ws_equal_size))\n",
    "# print(2/rowNum * Xs.T @ I_T_C)\n",
    "\n",
    "print(I_T_C.T @ result @ I_T_C/rowNum)\n",
    "\n",
    "\n",
    "M = Mahalanobis_distance(Xs, Ws_equal_size)\n",
    "print(M)\n",
    "\n",
    "H = np.eye(rowNum) - np.ones((rowNum, rowNum))/ rowNum\n",
    "print(I_T_C.T @ np.linalg.pinv(H) @ I_T_C)"
   ]
  }
 ],
 "metadata": {
  "language_info": {
   "name": "python"
  }
 },
 "nbformat": 4,
 "nbformat_minor": 2
}
